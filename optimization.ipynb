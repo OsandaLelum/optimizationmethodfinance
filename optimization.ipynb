{
  "nbformat": 4,
  "nbformat_minor": 0,
  "metadata": {
    "colab": {
      "provenance": []
    },
    "kernelspec": {
      "name": "python3",
      "display_name": "Python 3"
    },
    "language_info": {
      "name": "python"
    }
  },
  "cells": [
    {
      "cell_type": "code",
      "execution_count": 1,
      "metadata": {
        "colab": {
          "base_uri": "https://localhost:8080/"
        },
        "id": "nENyXSAf9wMs",
        "outputId": "c64fd268-22c4-46d4-fdec-a9b1574f2827"
      },
      "outputs": [
        {
          "output_type": "stream",
          "name": "stdout",
          "text": [
            "Optimized solution:\n",
            "[1.09023901e-13 5.00000000e+00]\n",
            "Optimized objective value:\n",
            "15.000000000000698\n"
          ]
        }
      ],
      "source": [
        "import numpy as np\n",
        "from scipy.optimize import minimize\n",
        "\n",
        "# Define the objective function\n",
        "def objective_function(x):\n",
        "    return -1 * (2 * x[0] + 3 * x[1])  # Example objective function to maximize (-1 is used to minimize)\n",
        "\n",
        "# Define the inequality constraints\n",
        "def constraint(x):\n",
        "    return 5 - (x[0] + x[1])  # Example constraint: x[0] + x[1] <= 5\n",
        "\n",
        "# Define the initial guess or starting point\n",
        "x0 = np.array([0, 0])\n",
        "\n",
        "# Define the bounds for the decision variables (optional)\n",
        "bounds = [(0, None), (0, None)]  # Example bounds: x1 >= 0, x2 >= 0\n",
        "\n",
        "# Define the constraint bounds (optional)\n",
        "constraint_bounds = [(None, 5)]  # Example constraint bound: x1 + x2 <= 5\n",
        "\n",
        "# Solve the optimization problem\n",
        "solution = minimize(objective_function, x0, method='SLSQP', bounds=bounds, constraints={'type': 'ineq', 'fun': constraint, 'bounds': constraint_bounds})\n",
        "\n",
        "# Print the optimized solution\n",
        "print(\"Optimized solution:\")\n",
        "print(solution.x)\n",
        "print(\"Optimized objective value:\")\n",
        "print(-1 * solution.fun)  # Multiply by -1 to obtain the maximized objective value\n"
      ]
    }
  ]
}